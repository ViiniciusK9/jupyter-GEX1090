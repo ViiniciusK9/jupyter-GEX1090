{
 "cells": [
  {
   "cell_type": "markdown",
   "id": "d1b2fd32-f0a1-45c4-80ff-df1776225ada",
   "metadata": {},
   "source": [
    "## Importação das bibliotecas"
   ]
  },
  {
   "cell_type": "code",
   "execution_count": 1,
   "id": "c2d5ee53-4b40-408a-a0dd-82320aa77a89",
   "metadata": {},
   "outputs": [],
   "source": [
    "import pandas as pd\n",
    "import numpy as np\n",
    "import matplotlib.pyplot as plt\n",
    "import seaborn as sns\n"
   ]
  },
  {
   "cell_type": "markdown",
   "id": "f7863099",
   "metadata": {},
   "source": [
    "## Etapas da atividade:\n",
    "\n",
    "### Etapa 1: Carregamento e inspeção inicial"
   ]
  },
  {
   "cell_type": "code",
   "execution_count": 2,
   "id": "1d0b654e-2995-4265-b3a5-56d8c6f99528",
   "metadata": {},
   "outputs": [
    {
     "data": {
      "text/html": [
       "<div>\n",
       "<style scoped>\n",
       "    .dataframe tbody tr th:only-of-type {\n",
       "        vertical-align: middle;\n",
       "    }\n",
       "\n",
       "    .dataframe tbody tr th {\n",
       "        vertical-align: top;\n",
       "    }\n",
       "\n",
       "    .dataframe thead th {\n",
       "        text-align: right;\n",
       "    }\n",
       "</style>\n",
       "<table border=\"1\" class=\"dataframe\">\n",
       "  <thead>\n",
       "    <tr style=\"text-align: right;\">\n",
       "      <th></th>\n",
       "      <th>Timestamp</th>\n",
       "      <th>S1_1</th>\n",
       "      <th>S1_2</th>\n",
       "      <th>S1_3</th>\n",
       "      <th>S1_4</th>\n",
       "      <th>S1_5</th>\n",
       "      <th>S1_6</th>\n",
       "      <th>S2_1</th>\n",
       "      <th>S2_2</th>\n",
       "      <th>S3_1</th>\n",
       "      <th>S3_2</th>\n",
       "      <th>S4_1</th>\n",
       "      <th>S4_2</th>\n",
       "      <th>Nivel_agua</th>\n",
       "      <th>Nivel_total</th>\n",
       "    </tr>\n",
       "  </thead>\n",
       "  <tbody>\n",
       "    <tr>\n",
       "      <th>0</th>\n",
       "      <td>28/03/2022 16:30:26.57745</td>\n",
       "      <td>1524.09200</td>\n",
       "      <td>1524.68570</td>\n",
       "      <td>1530.24903</td>\n",
       "      <td>1538.64225</td>\n",
       "      <td>1552.56175</td>\n",
       "      <td>1553.28008</td>\n",
       "      <td>1530.97697</td>\n",
       "      <td>1539.25600</td>\n",
       "      <td>1544.74917</td>\n",
       "      <td>1550.44190</td>\n",
       "      <td>1545.14272</td>\n",
       "      <td>1559.75003</td>\n",
       "      <td>257.0</td>\n",
       "      <td>257.0</td>\n",
       "    </tr>\n",
       "    <tr>\n",
       "      <th>1</th>\n",
       "      <td>28/03/2022 16:30:27.07745</td>\n",
       "      <td>1524.09059</td>\n",
       "      <td>1524.68520</td>\n",
       "      <td>1530.24959</td>\n",
       "      <td>1538.64228</td>\n",
       "      <td>1552.56153</td>\n",
       "      <td>1553.28018</td>\n",
       "      <td>1530.97808</td>\n",
       "      <td>1539.25592</td>\n",
       "      <td>1544.75001</td>\n",
       "      <td>1550.44253</td>\n",
       "      <td>1545.14266</td>\n",
       "      <td>1559.75004</td>\n",
       "      <td>257.0</td>\n",
       "      <td>257.0</td>\n",
       "    </tr>\n",
       "    <tr>\n",
       "      <th>2</th>\n",
       "      <td>28/03/2022 16:30:27.57745</td>\n",
       "      <td>1524.09108</td>\n",
       "      <td>1524.68440</td>\n",
       "      <td>1530.24883</td>\n",
       "      <td>1538.64254</td>\n",
       "      <td>1552.56085</td>\n",
       "      <td>1553.28046</td>\n",
       "      <td>1530.97912</td>\n",
       "      <td>1539.25621</td>\n",
       "      <td>1544.74792</td>\n",
       "      <td>1550.44108</td>\n",
       "      <td>1545.14126</td>\n",
       "      <td>1559.75247</td>\n",
       "      <td>257.0</td>\n",
       "      <td>257.0</td>\n",
       "    </tr>\n",
       "    <tr>\n",
       "      <th>3</th>\n",
       "      <td>28/03/2022 16:30:28.07745</td>\n",
       "      <td>1524.09161</td>\n",
       "      <td>1524.68487</td>\n",
       "      <td>1530.24907</td>\n",
       "      <td>1538.64199</td>\n",
       "      <td>1552.56206</td>\n",
       "      <td>1553.28030</td>\n",
       "      <td>1530.97905</td>\n",
       "      <td>1539.25607</td>\n",
       "      <td>1544.74877</td>\n",
       "      <td>1550.44254</td>\n",
       "      <td>1545.14166</td>\n",
       "      <td>1559.75295</td>\n",
       "      <td>257.0</td>\n",
       "      <td>257.0</td>\n",
       "    </tr>\n",
       "    <tr>\n",
       "      <th>4</th>\n",
       "      <td>28/03/2022 16:30:28.57745</td>\n",
       "      <td>1524.09070</td>\n",
       "      <td>1524.68511</td>\n",
       "      <td>1530.24922</td>\n",
       "      <td>1538.64187</td>\n",
       "      <td>1552.56135</td>\n",
       "      <td>1553.27996</td>\n",
       "      <td>1530.97980</td>\n",
       "      <td>1539.25519</td>\n",
       "      <td>1544.74875</td>\n",
       "      <td>1550.44097</td>\n",
       "      <td>1545.14139</td>\n",
       "      <td>1559.74994</td>\n",
       "      <td>257.0</td>\n",
       "      <td>257.0</td>\n",
       "    </tr>\n",
       "  </tbody>\n",
       "</table>\n",
       "</div>"
      ],
      "text/plain": [
       "                   Timestamp        S1_1        S1_2        S1_3        S1_4  \\\n",
       "0  28/03/2022 16:30:26.57745  1524.09200  1524.68570  1530.24903  1538.64225   \n",
       "1  28/03/2022 16:30:27.07745  1524.09059  1524.68520  1530.24959  1538.64228   \n",
       "2  28/03/2022 16:30:27.57745  1524.09108  1524.68440  1530.24883  1538.64254   \n",
       "3  28/03/2022 16:30:28.07745  1524.09161  1524.68487  1530.24907  1538.64199   \n",
       "4  28/03/2022 16:30:28.57745  1524.09070  1524.68511  1530.24922  1538.64187   \n",
       "\n",
       "         S1_5        S1_6        S2_1        S2_2        S3_1        S3_2  \\\n",
       "0  1552.56175  1553.28008  1530.97697  1539.25600  1544.74917  1550.44190   \n",
       "1  1552.56153  1553.28018  1530.97808  1539.25592  1544.75001  1550.44253   \n",
       "2  1552.56085  1553.28046  1530.97912  1539.25621  1544.74792  1550.44108   \n",
       "3  1552.56206  1553.28030  1530.97905  1539.25607  1544.74877  1550.44254   \n",
       "4  1552.56135  1553.27996  1530.97980  1539.25519  1544.74875  1550.44097   \n",
       "\n",
       "         S4_1        S4_2  Nivel_agua  Nivel_total  \n",
       "0  1545.14272  1559.75003       257.0        257.0  \n",
       "1  1545.14266  1559.75004       257.0        257.0  \n",
       "2  1545.14126  1559.75247       257.0        257.0  \n",
       "3  1545.14166  1559.75295       257.0        257.0  \n",
       "4  1545.14139  1559.74994       257.0        257.0  "
      ]
     },
     "execution_count": 2,
     "metadata": {},
     "output_type": "execute_result"
    }
   ],
   "source": [
    "df_initial = pd.read_csv(\"./data/df_full.csv\")\n",
    "\n",
    "df = df_initial.copy()\n",
    "\n",
    "df.head()"
   ]
  },
  {
   "cell_type": "code",
   "execution_count": 3,
   "id": "da93d9b5",
   "metadata": {},
   "outputs": [
    {
     "data": {
      "text/plain": [
       "(66540, 15)"
      ]
     },
     "execution_count": 3,
     "metadata": {},
     "output_type": "execute_result"
    }
   ],
   "source": [
    "df.shape"
   ]
  },
  {
   "cell_type": "code",
   "execution_count": 4,
   "id": "bf3bcd6a",
   "metadata": {},
   "outputs": [
    {
     "name": "stdout",
     "output_type": "stream",
     "text": [
      "<class 'pandas.core.frame.DataFrame'>\n",
      "RangeIndex: 66540 entries, 0 to 66539\n",
      "Data columns (total 15 columns):\n",
      " #   Column       Non-Null Count  Dtype  \n",
      "---  ------       --------------  -----  \n",
      " 0   Timestamp    66540 non-null  object \n",
      " 1   S1_1         66540 non-null  float64\n",
      " 2   S1_2         66540 non-null  float64\n",
      " 3   S1_3         66540 non-null  float64\n",
      " 4   S1_4         66540 non-null  float64\n",
      " 5   S1_5         66540 non-null  float64\n",
      " 6   S1_6         66540 non-null  float64\n",
      " 7   S2_1         66540 non-null  float64\n",
      " 8   S2_2         66540 non-null  float64\n",
      " 9   S3_1         66540 non-null  float64\n",
      " 10  S3_2         66540 non-null  float64\n",
      " 11  S4_1         66540 non-null  float64\n",
      " 12  S4_2         66540 non-null  float64\n",
      " 13  Nivel_agua   66540 non-null  float64\n",
      " 14  Nivel_total  66540 non-null  float64\n",
      "dtypes: float64(14), object(1)\n",
      "memory usage: 7.6+ MB\n"
     ]
    }
   ],
   "source": [
    "\n",
    "df.info()"
   ]
  },
  {
   "cell_type": "markdown",
   "id": "1a747c0e",
   "metadata": {},
   "source": [
    "### Sumário\n",
    "\n",
    "- Timestamp: Refere-se ao momento em que uma medição foi registrada.\n",
    "- S1_1 a S1_6: São os nomes de um conjunto de seis sensores de temperatura baseados em Fibra com Rede de Bragg (FBG). Os valores associados a eles são as medições de comprimento de onda em nanômetros (nm).\n",
    "- S2_1, S2_2, S3_1, S3_2, S4_1, S4_2: São os nomes de seis sensores de pressão hidrostática, também baseados em FBG, distribuídos em três canais (2, 3 e 4), com dois sensores por canal. Os valores representam as medições de comprimento de onda (em nm) desses sensores.\n",
    "- Nivel agua: Representa a medição do nível da interface água-óleo, ou seja, a altura da camada de água no fundo do tanque, expressa em milímetros (mm).\n",
    "- Nivel total: Representa a medição do nível total de líquido (água + óleo) dentro do tanque, também expressa em milímetros (mm). A camada de óleo pode ser calculada subtraindo o nível da água do nível total."
   ]
  },
  {
   "cell_type": "markdown",
   "id": "dd334195",
   "metadata": {},
   "source": [
    "### Etapa 2: Resumo estatístico"
   ]
  },
  {
   "cell_type": "code",
   "execution_count": 5,
   "id": "dbc917a5",
   "metadata": {},
   "outputs": [
    {
     "data": {
      "text/html": [
       "<div>\n",
       "<style scoped>\n",
       "    .dataframe tbody tr th:only-of-type {\n",
       "        vertical-align: middle;\n",
       "    }\n",
       "\n",
       "    .dataframe tbody tr th {\n",
       "        vertical-align: top;\n",
       "    }\n",
       "\n",
       "    .dataframe thead th {\n",
       "        text-align: right;\n",
       "    }\n",
       "</style>\n",
       "<table border=\"1\" class=\"dataframe\">\n",
       "  <thead>\n",
       "    <tr style=\"text-align: right;\">\n",
       "      <th></th>\n",
       "      <th>S1_1</th>\n",
       "      <th>S1_2</th>\n",
       "      <th>S1_3</th>\n",
       "      <th>S1_4</th>\n",
       "      <th>S1_5</th>\n",
       "      <th>S1_6</th>\n",
       "      <th>S2_1</th>\n",
       "      <th>S2_2</th>\n",
       "      <th>S3_1</th>\n",
       "      <th>S3_2</th>\n",
       "      <th>S4_1</th>\n",
       "      <th>S4_2</th>\n",
       "      <th>Nivel_agua</th>\n",
       "      <th>Nivel_total</th>\n",
       "    </tr>\n",
       "  </thead>\n",
       "  <tbody>\n",
       "    <tr>\n",
       "      <th>count</th>\n",
       "      <td>66540.000000</td>\n",
       "      <td>66540.000000</td>\n",
       "      <td>66540.000000</td>\n",
       "      <td>66540.000000</td>\n",
       "      <td>66540.000000</td>\n",
       "      <td>66540.000000</td>\n",
       "      <td>66540.000000</td>\n",
       "      <td>66540.000000</td>\n",
       "      <td>66540.000000</td>\n",
       "      <td>66540.000000</td>\n",
       "      <td>66540.000000</td>\n",
       "      <td>66540.000000</td>\n",
       "      <td>66540.000000</td>\n",
       "      <td>66540.000000</td>\n",
       "    </tr>\n",
       "    <tr>\n",
       "      <th>mean</th>\n",
       "      <td>1524.134287</td>\n",
       "      <td>1524.730478</td>\n",
       "      <td>1530.291499</td>\n",
       "      <td>1538.683594</td>\n",
       "      <td>1552.585198</td>\n",
       "      <td>1553.321983</td>\n",
       "      <td>1531.088692</td>\n",
       "      <td>1539.395152</td>\n",
       "      <td>1544.837456</td>\n",
       "      <td>1550.519120</td>\n",
       "      <td>1545.308524</td>\n",
       "      <td>1558.082188</td>\n",
       "      <td>1245.555020</td>\n",
       "      <td>1596.034836</td>\n",
       "    </tr>\n",
       "    <tr>\n",
       "      <th>std</th>\n",
       "      <td>0.054754</td>\n",
       "      <td>0.055615</td>\n",
       "      <td>0.056080</td>\n",
       "      <td>0.065582</td>\n",
       "      <td>0.060931</td>\n",
       "      <td>0.076920</td>\n",
       "      <td>0.166813</td>\n",
       "      <td>0.158077</td>\n",
       "      <td>0.110521</td>\n",
       "      <td>0.150314</td>\n",
       "      <td>0.151640</td>\n",
       "      <td>4.585039</td>\n",
       "      <td>734.131379</td>\n",
       "      <td>745.587549</td>\n",
       "    </tr>\n",
       "    <tr>\n",
       "      <th>min</th>\n",
       "      <td>1523.876580</td>\n",
       "      <td>1524.632450</td>\n",
       "      <td>1530.188590</td>\n",
       "      <td>1538.571820</td>\n",
       "      <td>1552.386530</td>\n",
       "      <td>1553.097760</td>\n",
       "      <td>1530.652050</td>\n",
       "      <td>1539.029490</td>\n",
       "      <td>1544.519990</td>\n",
       "      <td>1550.201170</td>\n",
       "      <td>1545.027500</td>\n",
       "      <td>1545.204630</td>\n",
       "      <td>109.000000</td>\n",
       "      <td>109.000000</td>\n",
       "    </tr>\n",
       "    <tr>\n",
       "      <th>25%</th>\n",
       "      <td>1524.089350</td>\n",
       "      <td>1524.688170</td>\n",
       "      <td>1530.248818</td>\n",
       "      <td>1538.641880</td>\n",
       "      <td>1552.556660</td>\n",
       "      <td>1553.277568</td>\n",
       "      <td>1531.038010</td>\n",
       "      <td>1539.360270</td>\n",
       "      <td>1544.746688</td>\n",
       "      <td>1550.397470</td>\n",
       "      <td>1545.222540</td>\n",
       "      <td>1559.539840</td>\n",
       "      <td>791.000000</td>\n",
       "      <td>1287.000000</td>\n",
       "    </tr>\n",
       "    <tr>\n",
       "      <th>50%</th>\n",
       "      <td>1524.128870</td>\n",
       "      <td>1524.720210</td>\n",
       "      <td>1530.281990</td>\n",
       "      <td>1538.672615</td>\n",
       "      <td>1552.571130</td>\n",
       "      <td>1553.290640</td>\n",
       "      <td>1531.080450</td>\n",
       "      <td>1539.386375</td>\n",
       "      <td>1544.843610</td>\n",
       "      <td>1550.510815</td>\n",
       "      <td>1545.287020</td>\n",
       "      <td>1559.679345</td>\n",
       "      <td>1219.000000</td>\n",
       "      <td>1656.000000</td>\n",
       "    </tr>\n",
       "    <tr>\n",
       "      <th>75%</th>\n",
       "      <td>1524.160922</td>\n",
       "      <td>1524.765310</td>\n",
       "      <td>1530.314970</td>\n",
       "      <td>1538.705990</td>\n",
       "      <td>1552.584570</td>\n",
       "      <td>1553.333610</td>\n",
       "      <td>1531.185390</td>\n",
       "      <td>1539.425900</td>\n",
       "      <td>1544.924012</td>\n",
       "      <td>1550.622420</td>\n",
       "      <td>1545.383850</td>\n",
       "      <td>1559.762980</td>\n",
       "      <td>1880.000000</td>\n",
       "      <td>2188.000000</td>\n",
       "    </tr>\n",
       "    <tr>\n",
       "      <th>max</th>\n",
       "      <td>1524.299000</td>\n",
       "      <td>1524.905580</td>\n",
       "      <td>1530.464740</td>\n",
       "      <td>1538.917920</td>\n",
       "      <td>1552.823080</td>\n",
       "      <td>1553.571740</td>\n",
       "      <td>1531.635210</td>\n",
       "      <td>1540.003880</td>\n",
       "      <td>1545.096100</td>\n",
       "      <td>1550.912600</td>\n",
       "      <td>1545.873190</td>\n",
       "      <td>1560.415660</td>\n",
       "      <td>2804.000000</td>\n",
       "      <td>2804.000000</td>\n",
       "    </tr>\n",
       "  </tbody>\n",
       "</table>\n",
       "</div>"
      ],
      "text/plain": [
       "               S1_1          S1_2          S1_3          S1_4          S1_5  \\\n",
       "count  66540.000000  66540.000000  66540.000000  66540.000000  66540.000000   \n",
       "mean    1524.134287   1524.730478   1530.291499   1538.683594   1552.585198   \n",
       "std        0.054754      0.055615      0.056080      0.065582      0.060931   \n",
       "min     1523.876580   1524.632450   1530.188590   1538.571820   1552.386530   \n",
       "25%     1524.089350   1524.688170   1530.248818   1538.641880   1552.556660   \n",
       "50%     1524.128870   1524.720210   1530.281990   1538.672615   1552.571130   \n",
       "75%     1524.160922   1524.765310   1530.314970   1538.705990   1552.584570   \n",
       "max     1524.299000   1524.905580   1530.464740   1538.917920   1552.823080   \n",
       "\n",
       "               S1_6          S2_1          S2_2          S3_1          S3_2  \\\n",
       "count  66540.000000  66540.000000  66540.000000  66540.000000  66540.000000   \n",
       "mean    1553.321983   1531.088692   1539.395152   1544.837456   1550.519120   \n",
       "std        0.076920      0.166813      0.158077      0.110521      0.150314   \n",
       "min     1553.097760   1530.652050   1539.029490   1544.519990   1550.201170   \n",
       "25%     1553.277568   1531.038010   1539.360270   1544.746688   1550.397470   \n",
       "50%     1553.290640   1531.080450   1539.386375   1544.843610   1550.510815   \n",
       "75%     1553.333610   1531.185390   1539.425900   1544.924012   1550.622420   \n",
       "max     1553.571740   1531.635210   1540.003880   1545.096100   1550.912600   \n",
       "\n",
       "               S4_1          S4_2    Nivel_agua   Nivel_total  \n",
       "count  66540.000000  66540.000000  66540.000000  66540.000000  \n",
       "mean    1545.308524   1558.082188   1245.555020   1596.034836  \n",
       "std        0.151640      4.585039    734.131379    745.587549  \n",
       "min     1545.027500   1545.204630    109.000000    109.000000  \n",
       "25%     1545.222540   1559.539840    791.000000   1287.000000  \n",
       "50%     1545.287020   1559.679345   1219.000000   1656.000000  \n",
       "75%     1545.383850   1559.762980   1880.000000   2188.000000  \n",
       "max     1545.873190   1560.415660   2804.000000   2804.000000  "
      ]
     },
     "execution_count": 5,
     "metadata": {},
     "output_type": "execute_result"
    }
   ],
   "source": [
    "df.describe()"
   ]
  },
  {
   "cell_type": "markdown",
   "id": "f210b905",
   "metadata": {},
   "source": [
    "### Etapa 3: Valores ausentes e duplicados"
   ]
  },
  {
   "cell_type": "code",
   "execution_count": 6,
   "id": "b70c19cf",
   "metadata": {},
   "outputs": [
    {
     "data": {
      "text/plain": [
       "Timestamp      0\n",
       "S1_1           0\n",
       "S1_2           0\n",
       "S1_3           0\n",
       "S1_4           0\n",
       "S1_5           0\n",
       "S1_6           0\n",
       "S2_1           0\n",
       "S2_2           0\n",
       "S3_1           0\n",
       "S3_2           0\n",
       "S4_1           0\n",
       "S4_2           0\n",
       "Nivel_agua     0\n",
       "Nivel_total    0\n",
       "dtype: int64"
      ]
     },
     "execution_count": 6,
     "metadata": {},
     "output_type": "execute_result"
    }
   ],
   "source": [
    "df.isna().sum()\n"
   ]
  },
  {
   "cell_type": "code",
   "execution_count": 7,
   "id": "98462086",
   "metadata": {},
   "outputs": [
    {
     "data": {
      "text/plain": [
       "np.int64(0)"
      ]
     },
     "execution_count": 7,
     "metadata": {},
     "output_type": "execute_result"
    }
   ],
   "source": [
    "df.duplicated().sum()"
   ]
  },
  {
   "cell_type": "markdown",
   "id": "155c848a",
   "metadata": {},
   "source": [
    "### Etapa 4: Distribuição das variáveis"
   ]
  },
  {
   "cell_type": "markdown",
   "id": "54c38bc5",
   "metadata": {},
   "source": [
    "### Etapa 5: Correlação entre sensores"
   ]
  },
  {
   "cell_type": "markdown",
   "id": "10c2a900",
   "metadata": {},
   "source": [
    "### Etapa 6: Análise temporal"
   ]
  },
  {
   "cell_type": "markdown",
   "id": "ff928062",
   "metadata": {},
   "source": [
    "### Etapa 7: Relação com as variáveis-alvo"
   ]
  },
  {
   "cell_type": "markdown",
   "id": "582a1595",
   "metadata": {},
   "source": [
    "## Resumo final"
   ]
  }
 ],
 "metadata": {
  "kernelspec": {
   "display_name": "venv",
   "language": "python",
   "name": "python3"
  },
  "language_info": {
   "codemirror_mode": {
    "name": "ipython",
    "version": 3
   },
   "file_extension": ".py",
   "mimetype": "text/x-python",
   "name": "python",
   "nbconvert_exporter": "python",
   "pygments_lexer": "ipython3",
   "version": "3.10.12"
  }
 },
 "nbformat": 4,
 "nbformat_minor": 5
}
